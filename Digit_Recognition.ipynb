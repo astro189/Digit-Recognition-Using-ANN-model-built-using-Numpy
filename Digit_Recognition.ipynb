{
 "cells": [
  {
   "cell_type": "code",
   "execution_count": 153,
   "id": "d8498896-449a-4cf8-b2e5-9f58ee1b53b5",
   "metadata": {},
   "outputs": [],
   "source": [
    "import numpy as np\n",
    "import pandas as pd\n",
    "import random\n",
    "import matplotlib.pyplot as plt"
   ]
  },
  {
   "cell_type": "code",
   "execution_count": 154,
   "id": "36841e4a-c413-4c49-aa84-b51f50f5a17e",
   "metadata": {},
   "outputs": [],
   "source": [
    "data=pd.read_csv('train.csv')"
   ]
  },
  {
   "cell_type": "code",
   "execution_count": 155,
   "id": "2f60f14e",
   "metadata": {},
   "outputs": [],
   "source": [
    "data = np.array(data)\n",
    "m, n = data.shape\n",
    "np.random.shuffle(data) # shuffle before splitting into dev and training sets\n",
    "\n",
    "data_dev = data[0:1000].T\n",
    "Y_dev = data_dev[0]\n",
    "X_dev = data_dev[1:n]\n",
    "X_dev = X_dev / 255.\n",
    "\n",
    "data_train = data[1000:m].T\n",
    "Y_train = data_train[0]\n",
    "Y=Y_train\n",
    "X_train = data_train[1:n]\n",
    "X_train = X_train / 255\n",
    "_,m_train = X_train.shape\n"
   ]
  },
  {
   "cell_type": "code",
   "execution_count": 156,
   "id": "1a435fe3",
   "metadata": {},
   "outputs": [],
   "source": [
    "def one_hot(Y):\n",
    "    one_hot_Y = np.zeros((Y.size, Y.max() + 1))\n",
    "    one_hot_Y[np.arange(Y.size), Y] = 1\n",
    "    one_hot_Y = one_hot_Y.T\n",
    "    return one_hot_Y\n",
    "Y_train=one_hot(Y_train)\n",
    "Y_dev=one_hot(Y_dev)"
   ]
  },
  {
   "cell_type": "code",
   "execution_count": 157,
   "id": "7d1827d3",
   "metadata": {},
   "outputs": [],
   "source": [
    "test_data=(X_dev,Y_dev)"
   ]
  },
  {
   "cell_type": "code",
   "execution_count": 158,
   "id": "3ea54130",
   "metadata": {},
   "outputs": [],
   "source": [
    "training_data=(X_train,Y_train)"
   ]
  },
  {
   "cell_type": "code",
   "execution_count": 159,
   "id": "5d6274fe",
   "metadata": {},
   "outputs": [],
   "source": [
    "i=0"
   ]
  },
  {
   "cell_type": "code",
   "execution_count": 160,
   "id": "1deb6129",
   "metadata": {},
   "outputs": [],
   "source": [
    "def Init_para(neurons):\n",
    "    neurons=neurons\n",
    "    l=len(neurons)\n",
    "    bias=[np.random.randn(y,1)for y in neurons[1:]] \n",
    "    weights=[np.random.randn(y,x)for x,y in zip (neurons[:-1],neurons[1:])]\n",
    "    layers=l\n",
    "    return bias,weights,layers"
   ]
  },
  {
   "cell_type": "code",
   "execution_count": 161,
   "id": "87927ba5",
   "metadata": {},
   "outputs": [],
   "source": [
    "def get_predictions(A2):\n",
    "    return np.argmax(A2, 0)\n",
    "\n",
    "def get_accuracy(predictions, Y):\n",
    "    y=np.argmax(Y)\n",
    "    return np.sum(predictions == y) "
   ]
  },
  {
   "cell_type": "code",
   "execution_count": 162,
   "id": "9557e27d",
   "metadata": {},
   "outputs": [],
   "source": [
    "def update_mini_batch(mini_batch,learning_rate,bias,weights,layers,m):\n",
    "    x_all=mini_batch[0]\n",
    "    y_all=mini_batch[1]\n",
    "    for x,y in zip(x_all.T,y_all.T):\n",
    "        x=np.reshape(x,(len(x),1))\n",
    "        y=np.reshape(y,(len(y),1))\n",
    "        activations,z_all=feedForward(x,y,bias,weights,layers)\n",
    "        derivative_bias,derivative_weights=backpropogation(x,y,bias,weights,layers)\n",
    "        bias=[b-(learning_rate*derivative_each_bias) for derivative_each_bias,b in zip(derivative_bias,bias)]\n",
    "        weights=[w-(learning_rate*derivative_each_weight) for derivative_each_weight,w in zip(derivative_weights,weights)]\n",
    "        predictions = get_predictions(activations[-1])\n",
    "        m+=get_accuracy(predictions,y)\n",
    "    return bias,weights,m"
   ]
  },
  {
   "cell_type": "code",
   "execution_count": 163,
   "id": "729dea91",
   "metadata": {},
   "outputs": [],
   "source": [
    "def SDG(training_data,epochs,mini_batch_size,learning_rate,test_data=None):\n",
    "    bias,weights,layers=Init_para([784,30,10])\n",
    "    if test_data:\n",
    "        n_test = len(test_data[0][0])\n",
    "    n=len(X_train[0])\n",
    "    for i in range(epochs):\n",
    "        m=0\n",
    "        mini_batches=[(training_data[0][:,k:k+mini_batch_size],training_data[1][:,k:k+mini_batch_size])\n",
    "                      for k in range(0,n,mini_batch_size)]\n",
    "        for mini_batch in mini_batches:\n",
    "            bias,weights,m=update_mini_batch(mini_batch,learning_rate,bias,weights,layers,m)\n",
    "        print(f\"Epoch:{i},Accuracy:{m/X_train[1].shape*100}\")\n",
    "    return weights,bias"
   ]
  },
  {
   "cell_type": "code",
   "execution_count": 164,
   "id": "2f66d920",
   "metadata": {},
   "outputs": [],
   "source": [
    "def sigmoid(z):\n",
    "    return 1.0/(1.0+np.exp(-z))"
   ]
  },
  {
   "cell_type": "code",
   "execution_count": 165,
   "id": "b0588a94",
   "metadata": {},
   "outputs": [],
   "source": [
    "def relu(z):\n",
    "    return np.maximum(0,z)"
   ]
  },
  {
   "cell_type": "code",
   "execution_count": 166,
   "id": "c01e5a16",
   "metadata": {},
   "outputs": [],
   "source": [
    "def relu_derivative(z):\n",
    "    z[z<=0]=0\n",
    "    z[z>0]=1\n",
    "    return z"
   ]
  },
  {
   "cell_type": "code",
   "execution_count": 167,
   "id": "29b489ff",
   "metadata": {},
   "outputs": [],
   "source": [
    "def feedForward(x,y,bias,weights,layers):\n",
    "    activation=x\n",
    "    activations=[x]\n",
    "    z_all=[]\n",
    "    for b,w in zip(bias,weights):\n",
    "        k=np.dot(w,activation)\n",
    "        z=k+b\n",
    "        z_all.append(z)\n",
    "        activation=sigmoid(z)\n",
    "        activations.append(activation)\n",
    "    return activations,z_all"
   ]
  },
  {
   "cell_type": "code",
   "execution_count": 168,
   "id": "c729ad55",
   "metadata": {},
   "outputs": [],
   "source": [
    "def loss_function_derivative(Y_pred,Y_true):\n",
    "    return (Y_pred-Y_true)"
   ]
  },
  {
   "cell_type": "code",
   "execution_count": 169,
   "id": "9fc169b2",
   "metadata": {},
   "outputs": [],
   "source": [
    "def sigmoid_derivative(z):\n",
    "    return sigmoid(z)*(1-sigmoid(z))"
   ]
  },
  {
   "cell_type": "code",
   "execution_count": 170,
   "id": "fd09e3cb",
   "metadata": {},
   "outputs": [],
   "source": [
    "def backpropogation(x,y,bias,weights,layers):\n",
    "    derivative_bias=[np.zeros(b.shape) for b in bias]\n",
    "    derivative_weights=[np.zeros(w.shape) for w in weights]\n",
    "    #Forward Pass\n",
    "    activations,z_all=feedForward(x,y,bias,weights,layers)\n",
    "    #Backward pass\n",
    "    loss_delta=loss_function_derivative(activations[-1],y)*sigmoid_derivative(z_all[-1])\n",
    "    derivative_bias[-1]=loss_delta\n",
    "    derivative_weights[-1]=np.dot(loss_delta,activations[-2].T)\n",
    "    for layer in range(2,layers):\n",
    "        z=z_all[-layer]\n",
    "        s_derivative=sigmoid_derivative(z)\n",
    "        loss_delta=np.dot(weights[-layer+1].T,loss_delta)*s_derivative\n",
    "        derivative_bias[-layer]=loss_delta\n",
    "        derivative_weights[-layer]=np.dot(loss_delta,activations[-layer-1].T)\n",
    "    return derivative_bias,derivative_weights\n",
    "    "
   ]
  },
  {
   "cell_type": "code",
   "execution_count": 171,
   "id": "31356396",
   "metadata": {},
   "outputs": [],
   "source": [
    "def evaluate(test_data):\n",
    "    correct=0\n",
    "    x_test_all=test_data[0]\n",
    "    y_test_all=test_data[1]\n",
    "    for x,y in zip(x_test_all.T,y_test_all.T):\n",
    "        x=np.reshape(x,(784,1))\n",
    "        y=np.reshape(y,(10,1))\n",
    "        k=np.argmax(feedForward(x))\n",
    "        m=np.argmax(y)\n",
    "        if k==m:\n",
    "            correct+=1\n",
    "    return correct"
   ]
  },
  {
   "cell_type": "code",
   "execution_count": null,
   "id": "28bf7318",
   "metadata": {},
   "outputs": [],
   "source": [
    "w,b=SDG(training_data,50,10,0.1,test_data)"
   ]
  },
  {
   "cell_type": "code",
   "execution_count": 182,
   "id": "04bc8d50",
   "metadata": {},
   "outputs": [],
   "source": [
    "def make_predictions(X,w,b):\n",
    "    activations,_ = feedForward(X,0,b,w,3)\n",
    "    predictions = get_predictions(activations[-1])\n",
    "    return predictions\n",
    "\n",
    "def test_prediction(index,w,b):\n",
    "    current_image = X_train[:, index, None]\n",
    "    prediction = make_predictions(X_train[:, index, None],w,b)\n",
    "    label = Y_train[:,index]\n",
    "    print(\"Prediction: \", prediction)\n",
    "    print(\"Label: \", label)\n",
    "    \n",
    "    \n",
    "    current_image = current_image.reshape((28, 28)) * 255\n",
    "    plt.gray()\n",
    "    plt.imshow(current_image, interpolation='nearest')\n",
    "    plt.show()"
   ]
  },
  {
   "cell_type": "code",
   "execution_count": 184,
   "id": "ca31bd28",
   "metadata": {},
   "outputs": [
    {
     "name": "stdout",
     "output_type": "stream",
     "text": [
      "Prediction:  [6]\n",
      "Label:  [0. 0. 0. 0. 0. 0. 1. 0. 0. 0.]\n"
     ]
    },
    {
     "data": {
      "image/png": "[encoded data removed]",
      "text/plain": [
       "<Figure size 432x288 with 1 Axes>"
      ]
     },
     "metadata": {
      "needs_background": "light"
     },
     "output_type": "display_data"
    }
   ],
   "source": [
    "test_prediction(8,w,b)"
   ]
  },
  {
   "cell_type": "code",
   "execution_count": null,
   "id": "07f2053d",
   "metadata": {},
   "outputs": [],
   "source": []
  }
 ],
 "metadata": {
  "kernelspec": {
   "display_name": "Python 3 (ipykernel)",
   "language": "python",
   "name": "python3"
  },
  "language_info": {
   "codemirror_mode": {
    "name": "ipython",
    "version": 3
   },
   "file_extension": ".py",
   "mimetype": "text/x-python",
   "name": "python",
   "nbconvert_exporter": "python",
   "pygments_lexer": "ipython3",
   "version": "3.9.12"
  }
 },
 "nbformat": 4,
 "nbformat_minor": 5
}
